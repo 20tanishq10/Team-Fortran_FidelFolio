{
  "nbformat": 4,
  "nbformat_minor": 0,
  "metadata": {
    "colab": {
      "provenance": []
    },
    "kernelspec": {
      "name": "python3",
      "display_name": "Python 3"
    },
    "language_info": {
      "name": "python"
    }
  },
  "cells": [
    {
      "cell_type": "code",
      "source": [
        "import pandas as pd\n",
        "import numpy as np\n",
        "import torch\n",
        "from sklearn.model_selection import train_test_split\n",
        "from torch.utils.data import Dataset, DataLoader\n",
        "import torch.nn as nn\n",
        "import torch.optim as optim\n",
        "import matplotlib.pyplot as plt\n",
        "\n",
        "df_new = pd.read_csv(\"vae_imputed.csv\")"
      ],
      "metadata": {
        "id": "GOFOT2sCKUwf"
      },
      "execution_count": 18,
      "outputs": []
    },
    {
      "cell_type": "markdown",
      "source": [
        "# Preparing dataframes separately for Targets 1,2 and 3"
      ],
      "metadata": {
        "id": "cK2sMPJibEH-"
      }
    },
    {
      "cell_type": "code",
      "source": [
        "df1 = df_new.drop(columns=['Target 2','Target 3'])\n",
        "df2 = df_new.drop(columns=['Target 1','Target 3'])\n",
        "df3 = df_new.drop(columns=['Target 1','Target 2'])\n"
      ],
      "metadata": {
        "id": "2I5ZaqYQKqrd"
      },
      "execution_count": 19,
      "outputs": []
    },
    {
      "cell_type": "code",
      "source": [
        "df1 = df1[~(df1['Target 1'].isna() & (df1['Year'] <= 2023))].copy()\n",
        "df2 = df2[~(df2['Target 2'].isna() & (df2['Year'] <= 2022))].copy()\n",
        "df3 = df3[~(df3['Target 3'].isna() & (df3['Year'] <= 2021))].copy()"
      ],
      "metadata": {
        "id": "pnhlRx-dKvck"
      },
      "execution_count": 20,
      "outputs": []
    },
    {
      "cell_type": "code",
      "source": [
        "excluded_indices = {13, 23, 24, 25, 26, 27}\n",
        "feature_cols = [f'Feature{i}' for i in range(1, 29) if i not in excluded_indices]\n",
        "sector_cols = [col for col in df_new.columns if col.startswith('sector_')]"
      ],
      "metadata": {
        "id": "vdtcNB6zaY_t"
      },
      "execution_count": 42,
      "outputs": []
    },
    {
      "cell_type": "markdown",
      "source": [
        "# DataPreprocessing for Model"
      ],
      "metadata": {
        "id": "fwaNaY8CbdUW"
      }
    },
    {
      "cell_type": "code",
      "execution_count": 43,
      "metadata": {
        "id": "EMi-rFjy6Al9"
      },
      "outputs": [],
      "source": [
        "def prepare_data(df, target_col, start_year=1999, end_year=2022):\n",
        "    # Exclude specific feature columns\n",
        "\n",
        "\n",
        "    # Filter dataframe for the given year range\n",
        "    df_filtered = df[(df['Year'] >= start_year) & (df['Year'] <= end_year)].copy()\n",
        "    df_filtered = df_filtered.drop(columns=['Year'])\n",
        "\n",
        "    # Dataset Class\n",
        "    class CompanyDataset(Dataset):\n",
        "        def __init__(self, df, feature_cols, sector_cols, target_col, start_year=1999, end_year=2022):\n",
        "            self.df = df\n",
        "            self.feature_cols = feature_cols\n",
        "            self.sector_cols = sector_cols\n",
        "            self.target_col = target_col\n",
        "            self.start_year = start_year\n",
        "            self.end_year = end_year\n",
        "            self.total_years = end_year - start_year + 1\n",
        "            self.company_ids = df['Company'].unique()\n",
        "\n",
        "        def __len__(self):\n",
        "            return len(self.company_ids)\n",
        "\n",
        "        def __getitem__(self, idx):\n",
        "            company = self.company_ids[idx]\n",
        "            company_data = self.df[self.df['Company'] == company]\n",
        "\n",
        "            features = company_data[self.feature_cols + self.sector_cols].values\n",
        "            target = company_data[self.target_col].values.astype(float)\n",
        "\n",
        "            num_years = len(company_data)\n",
        "            padding_years = self.total_years - num_years\n",
        "\n",
        "            features = np.pad(features, ((0, padding_years), (0, 0)),\n",
        "                              mode='constant', constant_values=-999)\n",
        "            target = np.pad(target, (0, padding_years),\n",
        "                            mode='constant', constant_values=np.nan)\n",
        "\n",
        "            # Mask is now only for padding (True = real data, False = padded data)\n",
        "            mask = np.zeros(self.total_years, dtype=bool)\n",
        "            mask[:num_years] = True\n",
        "\n",
        "            return {\n",
        "                'features': torch.tensor(features, dtype=torch.float32),\n",
        "                'targets': torch.tensor(target, dtype=torch.float32),\n",
        "                'mask': torch.tensor(mask, dtype=torch.bool)\n",
        "            }\n",
        "\n",
        "    # Train-Validation Split\n",
        "    train_df, val_df = train_test_split(df_filtered, test_size=0.2, random_state=42)\n",
        "\n",
        "    # Create datasets and loaders\n",
        "    train_dataset = CompanyDataset(train_df, feature_cols, sector_cols, target_col)\n",
        "    val_dataset = CompanyDataset(val_df, feature_cols, sector_cols, target_col)\n",
        "\n",
        "    train_loader = DataLoader(train_dataset, batch_size=16, shuffle=True)\n",
        "    val_loader = DataLoader(val_dataset, batch_size=16, shuffle=False)\n",
        "\n",
        "    return train_loader, val_loader\n"
      ]
    },
    {
      "cell_type": "code",
      "source": [
        "train_loader, val_loader = prepare_data(df1, target_col='Target 1', start_year=1999, end_year=2023)"
      ],
      "metadata": {
        "id": "A9eWfde6YpzS"
      },
      "execution_count": 44,
      "outputs": []
    },
    {
      "cell_type": "markdown",
      "source": [
        "# Transformer Architecture And Training"
      ],
      "metadata": {
        "id": "lb07XXcAbvba"
      }
    },
    {
      "cell_type": "code",
      "source": [
        "\n",
        "class PositionalEncoding(nn.Module):\n",
        "    def __init__(self, d_model, max_len=5000):\n",
        "        super(PositionalEncoding, self).__init__()\n",
        "        pe = torch.zeros(max_len, d_model)\n",
        "        position = torch.arange(0, max_len, dtype=torch.float).unsqueeze(1)\n",
        "        div_term = torch.exp(torch.arange(0, d_model, 2).float() * -(np.log(10000.0) / d_model))\n",
        "        pe[:, 0::2] = torch.sin(position * div_term)\n",
        "        pe[:, 1::2] = torch.cos(position * div_term)\n",
        "        pe = pe.unsqueeze(0)  # Shape: [1, max_len, d_model]\n",
        "        self.register_buffer('pe', pe)\n",
        "\n",
        "    def forward(self, x):\n",
        "        return x + self.pe[:, :x.size(1)]\n",
        "\n",
        "class MarketCapTransformer(nn.Module):\n",
        "    def __init__(self, feature_dim=22, sector_dim=13, d_model=64, nhead=4, num_layers=2, dropout=0.1, max_len=25, output_activation=None):\n",
        "        super(MarketCapTransformer, self).__init__()\n",
        "\n",
        "        self.input_projection = nn.Linear(feature_dim + sector_dim, d_model)\n",
        "        self.positional_encoding = PositionalEncoding(d_model, max_len=max_len)\n",
        "\n",
        "        encoder_layer = nn.TransformerEncoderLayer(\n",
        "            d_model=d_model,\n",
        "            nhead=nhead,\n",
        "            dropout=dropout,\n",
        "            batch_first=True\n",
        "        )\n",
        "        self.transformer = nn.TransformerEncoder(encoder_layer, num_layers=num_layers)\n",
        "\n",
        "        self.output_layer = nn.Linear(d_model, 1)\n",
        "\n",
        "        if output_activation == 'relu':\n",
        "            self.output_activation = nn.ReLU()\n",
        "        elif output_activation == 'sigmoid':\n",
        "            self.output_activation = nn.Sigmoid()\n",
        "        else:\n",
        "            self.output_activation = None\n",
        "\n",
        "    def forward(self, features, mask):\n",
        "        # Project input features to model dimension\n",
        "        x = self.input_projection(features)\n",
        "\n",
        "        # Add positional encoding\n",
        "        x = self.positional_encoding(x)\n",
        "\n",
        "        # Create padding mask: False means keep, True means ignore (standard for PyTorch Transformer)\n",
        "        key_padding_mask = ~mask  # Already a boolean mask (True = real data)\n",
        "\n",
        "        # Forward pass through Transformer Encoder\n",
        "        x = self.transformer(x, src_key_padding_mask=key_padding_mask)\n",
        "\n",
        "        # Final output projection\n",
        "        output = self.output_layer(x).squeeze(-1)  # Shape: [batch, seq_len]\n",
        "\n",
        "        if self.output_activation:\n",
        "            output = self.output_activation(output)\n",
        "\n",
        "        return output\n"
      ],
      "metadata": {
        "id": "D4UcJwa56IFj"
      },
      "execution_count": 33,
      "outputs": []
    },
    {
      "cell_type": "code",
      "source": [
        "import torch.optim as optim\n",
        "import torch.nn as nn\n",
        "\n",
        "model = MarketCapTransformer(feature_dim=22, sector_dim=12)\n",
        "optimizer = optim.Adam(model.parameters(), lr=1e-3)\n",
        "scheduler = torch.optim.lr_scheduler.ReduceLROnPlateau(optimizer, mode='min', factor=0.5, patience=2, verbose=True)\n",
        "criterion = nn.MSELoss()\n",
        "\n",
        "best_val_loss = float('inf')\n",
        "patience = 5\n",
        "early_stop_counter = 0\n",
        "\n",
        "for epoch in range(100):\n",
        "    model.train()\n",
        "    running_loss = 0\n",
        "\n",
        "    for batch in train_loader:\n",
        "        features = batch['features']\n",
        "        targets = batch['targets']\n",
        "        mask = batch['mask']  # True where real data, False where padded\n",
        "\n",
        "        preds = model(features, mask)\n",
        "\n",
        "        # Apply mask to predictions and targets\n",
        "        valid_preds = preds[mask]\n",
        "        valid_targets = targets[mask]\n",
        "\n",
        "        if valid_targets.numel() > 0:  # Make sure there's valid data\n",
        "            loss = criterion(valid_preds, valid_targets)\n",
        "\n",
        "            optimizer.zero_grad()\n",
        "            loss.backward()\n",
        "            optimizer.step()\n",
        "\n",
        "            running_loss += loss.item()\n",
        "\n",
        "    avg_train_loss = running_loss / len(train_loader)\n",
        "    print(f\"Epoch {epoch+1}: Train Loss {avg_train_loss:.4f}\")\n",
        "\n",
        "    # Validation phase\n",
        "    model.eval()\n",
        "    val_loss = 0.0\n",
        "    with torch.no_grad():\n",
        "        for batch in val_loader:\n",
        "            features = batch['features']\n",
        "            targets = batch['targets']\n",
        "            mask = batch['mask']\n",
        "\n",
        "            preds = model(features, mask)\n",
        "\n",
        "            valid_preds = preds[mask]\n",
        "            valid_targets = targets[mask]\n",
        "\n",
        "            if valid_targets.numel() > 0:\n",
        "                val_loss += criterion(valid_preds, valid_targets).item()\n",
        "\n",
        "    avg_val_loss = val_loss / len(val_loader)\n",
        "    print(f\"Epoch {epoch+1}: Val Loss {avg_val_loss:.4f}\")\n",
        "\n",
        "    # Scheduler step\n",
        "    scheduler.step(avg_val_loss)\n",
        "\n",
        "    # Early stopping check\n",
        "    if avg_val_loss < best_val_loss:\n",
        "        best_val_loss = avg_val_loss\n",
        "        early_stop_counter = 0\n",
        "        torch.save(model.state_dict(), \"MarketCap_Model.pt\")\n",
        "    else:\n",
        "        early_stop_counter += 1\n",
        "        if early_stop_counter >= patience:\n",
        "            print(\"Early stopping triggered.\")\n",
        "            break\n"
      ],
      "metadata": {
        "id": "bU_gh2-d6LEd",
        "colab": {
          "base_uri": "https://localhost:8080/"
        },
        "outputId": "b7b52f49-0d72-4e4c-9204-3d5fab584f67"
      },
      "execution_count": 34,
      "outputs": [
        {
          "output_type": "stream",
          "name": "stderr",
          "text": [
            "/usr/local/lib/python3.11/dist-packages/torch/optim/lr_scheduler.py:62: UserWarning: The verbose parameter is deprecated. Please use get_last_lr() to access the learning rate.\n",
            "  warnings.warn(\n"
          ]
        },
        {
          "output_type": "stream",
          "name": "stdout",
          "text": [
            "Epoch 1: Train Loss 37095.5938\n",
            "Epoch 1: Val Loss 40079.8373\n",
            "Epoch 2: Train Loss 34773.0978\n",
            "Epoch 2: Val Loss 40425.7511\n",
            "Epoch 3: Train Loss 36593.4124\n",
            "Epoch 3: Val Loss 39331.8414\n",
            "Epoch 4: Train Loss 33988.5101\n",
            "Epoch 4: Val Loss 38804.6895\n",
            "Epoch 5: Train Loss 34720.3765\n",
            "Epoch 5: Val Loss 38623.7932\n",
            "Epoch 6: Train Loss 34191.6954\n",
            "Epoch 6: Val Loss 38421.5658\n",
            "Epoch 7: Train Loss 35180.8399\n",
            "Epoch 7: Val Loss 38559.4757\n",
            "Epoch 8: Train Loss 33530.8862\n",
            "Epoch 8: Val Loss 37747.6516\n",
            "Epoch 9: Train Loss 33124.7127\n",
            "Epoch 9: Val Loss 38435.1524\n",
            "Epoch 10: Train Loss 34575.9897\n",
            "Epoch 10: Val Loss 38486.6150\n",
            "Epoch 11: Train Loss 34553.8081\n",
            "Epoch 11: Val Loss 38394.7182\n",
            "Epoch 12: Train Loss 32537.9971\n",
            "Epoch 12: Val Loss 38018.1941\n",
            "Epoch 13: Train Loss 31926.8977\n",
            "Epoch 13: Val Loss 37918.6927\n",
            "Early stopping triggered.\n"
          ]
        }
      ]
    },
    {
      "cell_type": "markdown",
      "source": [
        "# Inferencing Sectorwise RMSE"
      ],
      "metadata": {
        "id": "k7ymm8qncFMP"
      }
    },
    {
      "cell_type": "code",
      "source": [
        "\n",
        "# Initialize your model and load the best weights\n",
        "model = MarketCapTransformer(feature_dim=22, sector_dim=12)\n",
        "model.load_state_dict(torch.load(\"MarketCap_Model.pt\"))\n",
        "model.eval()\n",
        "\n",
        "# Prepare RMSE dictionary\n",
        "sector_rmse = {sector: [] for sector in range(1, 13)}\n",
        "\n",
        "# Validation loop to collect RMSE\n",
        "with torch.no_grad():\n",
        "    for batch in val_loader:\n",
        "        features = batch['features']  # [B, T, feature_dim + sector_dim]\n",
        "        targets = batch['targets']    # [B, T]\n",
        "        mask = batch['mask']          # [B, T]\n",
        "\n",
        "        preds = model(features, mask)\n",
        "\n",
        "        for sector in range(1, 13):\n",
        "            # Sector-specific positions\n",
        "            sector_mask = features[:, :, -12 + sector - 1] == 1\n",
        "            valid_mask = (mask != -999) & ~torch.isnan(targets) & sector_mask\n",
        "\n",
        "            if valid_mask.sum() > 0:\n",
        "                rmse = torch.sqrt(((preds[valid_mask] - targets[valid_mask]) ** 2).mean())\n",
        "                sector_rmse[sector].append(rmse.item())\n",
        "\n",
        "# Compute and print the average RMSE per sector\n",
        "print(\"Sector-wise RMSE:\")\n",
        "for sector in range(1, 13):\n",
        "    rmse_list = sector_rmse[sector]\n",
        "    avg_rmse = np.mean(rmse_list) if rmse_list else float('nan')\n",
        "    print(f\"Sector {sector} RMSE: {avg_rmse:.4f}\")\n",
        "\n",
        "# Calculate overall average (ignoring empty sectors)\n",
        "all_rmse_values = [np.mean(rmses) for rmses in sector_rmse.values() if rmses]\n",
        "overall_avg_rmse = np.mean(all_rmse_values)\n",
        "\n",
        "print(f\"\\nOverall Average RMSE: {overall_avg_rmse:.4f}\")\n",
        "\n",
        "# Plotting the RMSE\n",
        "plt.figure(figsize=(10, 6))\n",
        "plt.bar(range(1, 13), [np.mean(sector_rmse[sector]) if sector_rmse[sector] else 0 for sector in range(1, 13)], color='skyblue')\n",
        "plt.xlabel(\"Sector\")\n",
        "plt.ylabel(\"RMSE\")\n",
        "plt.title(\"Sector-wise RMSE for MarketCapTransformer\")\n",
        "plt.xticks(range(1, 13))\n",
        "plt.grid(axis='y', linestyle='--', alpha=0.7)\n",
        "plt.tight_layout()\n",
        "plt.show()\n"
      ],
      "metadata": {
        "id": "vopMv_7w6PyA",
        "colab": {
          "base_uri": "https://localhost:8080/",
          "height": 867
        },
        "outputId": "c0155c83-1ce6-40b9-c241-c99293c0b734"
      },
      "execution_count": 35,
      "outputs": [
        {
          "output_type": "stream",
          "name": "stdout",
          "text": [
            "Sector-wise RMSE:\n",
            "Sector 1 RMSE: 69.7666\n",
            "Sector 2 RMSE: 112.3748\n",
            "Sector 3 RMSE: 61.3730\n",
            "Sector 4 RMSE: 87.8151\n",
            "Sector 5 RMSE: 91.2495\n",
            "Sector 6 RMSE: 96.6934\n",
            "Sector 7 RMSE: 108.0369\n",
            "Sector 8 RMSE: 162.7067\n",
            "Sector 9 RMSE: 105.3549\n",
            "Sector 10 RMSE: 128.7092\n",
            "Sector 11 RMSE: 60.1110\n",
            "Sector 12 RMSE: 148.3484\n",
            "\n",
            "Overall Average RMSE: 102.7116\n"
          ]
        },
        {
          "output_type": "display_data",
          "data": {
            "text/plain": [
              "<Figure size 1000x600 with 1 Axes>"
            ],
            "image/png": "[encoded data removed]"
          },
          "metadata": {}
        }
      ]
    },
    {
      "cell_type": "markdown",
      "source": [
        "# Predicting Target Values"
      ],
      "metadata": {
        "id": "7GVKq6CLcMQe"
      }
    },
    {
      "cell_type": "code",
      "source": [
        "import torch\n",
        "import pandas as pd\n",
        "import numpy as np\n",
        "\n",
        "def predict_target(df, model, target_col, feature_cols, sector_cols, start_year=1999, end_year=2023):\n",
        "    # Filter rows where the target column is NaN\n",
        "    nan_target_df = df[df[target_col].isna()].copy()\n",
        "\n",
        "    # Prepare list for results\n",
        "    prediction_results = []\n",
        "\n",
        "    with torch.no_grad():\n",
        "        for idx, row in nan_target_df.iterrows():\n",
        "            company = row['Company']\n",
        "            # Get historical data up to the relevant year for the target\n",
        "            company_history = df[(df['Company'] == company) & (df['Year'] <= end_year)].copy()\n",
        "            if company_history.empty:\n",
        "                continue  # Skip if no past data\n",
        "\n",
        "            # Prepare features for the current row\n",
        "            features = company_history[feature_cols + sector_cols].values\n",
        "            num_years = len(company_history)\n",
        "            total_years = end_year - start_year + 1  # Should be 25 for target1, 2022 for target2, etc.\n",
        "            padding_years = total_years - num_years\n",
        "\n",
        "            # Pad features to fixed size\n",
        "            features_padded = np.pad(features, ((0, padding_years), (0, 0)),\n",
        "                                     mode='constant', constant_values=-999)\n",
        "\n",
        "            features_tensor = torch.tensor(features_padded, dtype=torch.float32).unsqueeze(0)  # [1, total_years, input_dim]\n",
        "            mask_tensor = torch.tensor([[True] * num_years + [False] * padding_years], dtype=torch.bool)\n",
        "\n",
        "            # Predict\n",
        "            predictions = model(features_tensor, mask_tensor).squeeze(0).numpy()\n",
        "\n",
        "            # Take prediction at the last known point for the current row\n",
        "            predicted_value = predictions[num_years - 1]\n",
        "\n",
        "            # Store prediction\n",
        "            prediction_results.append({\n",
        "                'Company': company,\n",
        "                'Year': row['Year'],\n",
        "                f'Predicted_{target_col}': predicted_value\n",
        "            })\n",
        "\n",
        "    # Create a DataFrame of predictions\n",
        "    predicted_df = pd.DataFrame(prediction_results)\n",
        "\n",
        "    return predicted_df\n"
      ],
      "metadata": {
        "id": "Em_X0JSoM82X"
      },
      "execution_count": 40,
      "outputs": []
    },
    {
      "cell_type": "code",
      "source": [
        "# Predict for Target 1 (using df1, and adjust start_year and end_year as needed)\n",
        "predicted_target1_df = predict_target(df1, model, target_col='Target 1', feature_cols=feature_cols, sector_cols=sector_cols, start_year=1999, end_year=2023)\n",
        "\n",
        "# Show the result for Target 1 predictions\n",
        "print(predicted_target1_df)\n"
      ],
      "metadata": {
        "colab": {
          "base_uri": "https://localhost:8080/"
        },
        "id": "YFdDz78caKJV",
        "outputId": "a950c624-451f-4569-80cc-8172d2885196"
      },
      "execution_count": 41,
      "outputs": [
        {
          "output_type": "stream",
          "name": "stdout",
          "text": [
            "             Company  Year  Predicted_Target 1\n",
            "0            360 ONE  2024          -25.039745\n",
            "1           3M India  2024          -11.474652\n",
            "2     5Paisa Capital  2024           40.233414\n",
            "3     63 Moons Tech.  2024          106.619217\n",
            "4              A B B  2024          -10.207618\n",
            "...              ...   ...                 ...\n",
            "1038    TTK Prestige  2024            2.235979\n",
            "1039    TVS Holdings  2024           -7.602398\n",
            "1040   TVS Motor Co.  2024           -7.132694\n",
            "1041   TVS Srichakra  2024           10.705166\n",
            "1042   TajGVK Hotels  2024           -3.887965\n",
            "\n",
            "[1043 rows x 3 columns]\n"
          ]
        }
      ]
    },
    {
      "cell_type": "code",
      "source": [],
      "metadata": {
        "id": "5v5mfQmpOuLw"
      },
      "execution_count": 31,
      "outputs": []
    },
    {
      "cell_type": "code",
      "source": [],
      "metadata": {
        "id": "OtuoNGNPaJGf"
      },
      "execution_count": null,
      "outputs": []
    },
    {
      "cell_type": "code",
      "source": [],
      "metadata": {
        "id": "XV8QLOpmU3wd"
      },
      "execution_count": null,
      "outputs": []
    }
  ]
}