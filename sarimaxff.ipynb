{
 "cells": [
  {
   "cell_type": "code",
   "execution_count": 28,
   "id": "7044fd94",
   "metadata": {},
   "outputs": [],
   "source": [
    "import pandas as pd\n",
    "from statsmodels.tsa.statespace.sarimax import SARIMAX\n",
    "from sklearn.preprocessing import StandardScaler\n",
    "import warnings\n",
    "import numpy as np"
   ]
  },
  {
   "cell_type": "code",
   "execution_count": 6,
   "id": "aa34dede",
   "metadata": {},
   "outputs": [],
   "source": [
    "df = pd.read_csv(r\"C:\\Users\\KAVISH\\Downloads\\FidelFolio_Final_DF.csv\")"
   ]
  },
  {
   "cell_type": "code",
   "execution_count": 7,
   "id": "f48f6b40",
   "metadata": {},
   "outputs": [],
   "source": [
    "for col in df.columns:\n",
    "    if col not in ['Company', 'Year']:\n",
    "        df[col] = pd.to_numeric(df[col], errors='coerce')"
   ]
  },
  {
   "cell_type": "code",
   "execution_count": 8,
   "id": "175073ca",
   "metadata": {},
   "outputs": [],
   "source": [
    "df1 = df[df['Year']< 2024 ].drop([' Target 2 ', ' Target 3 '], axis=1)"
   ]
  },
  {
   "cell_type": "code",
   "execution_count": 12,
   "id": "465305f7",
   "metadata": {},
   "outputs": [],
   "source": [
    "exog_cols = [col for col in df1.columns if col not in ['Company', 'Year', ' Target 1 ']]"
   ]
  },
  {
   "cell_type": "code",
   "execution_count": 9,
   "id": "dd0436fa",
   "metadata": {},
   "outputs": [],
   "source": [
    "df1.sort_values(['Company', 'Year'], inplace=True)\n"
   ]
  },
  {
   "cell_type": "code",
   "execution_count": 10,
   "id": "6f67eff0",
   "metadata": {},
   "outputs": [],
   "source": [
    "df_sarimax= df1"
   ]
  },
  {
   "cell_type": "code",
   "execution_count": 20,
   "id": "8131f309",
   "metadata": {},
   "outputs": [],
   "source": [
    "from sklearn.model_selection import train_test_split"
   ]
  },
  {
   "cell_type": "code",
   "execution_count": 33,
   "id": "574d20bf",
   "metadata": {},
   "outputs": [
    {
     "name": "stdout",
     "output_type": "stream",
     "text": [
      "Validation RMSE: 50.84\n"
     ]
    },
    {
     "data": {
      "application/vnd.plotly.v1+json": {
       "config": {
        "plotlyServerURL": "https://plot.ly"
       },
       "data": [
        {
         "mode": "lines+markers",
         "name": "Train Actual",
         "type": "scatter",
         "x": [
          0,
          1,
          2,
          3,
          4,
          5,
          6,
          7,
          8,
          9,
          10,
          11,
          12,
          13,
          14,
          15,
          16,
          17,
          18,
          19,
          20,
          21,
          22,
          23
         ],
         "y": [
          14.291531393568148,
          -7.557441176470589,
          20.30993610223642,
          23.363552,
          45.53147727272727,
          76.5180325443787,
          19.641328767123287,
          -2.3863553826199744,
          12.054139650872818,
          -13.13964664310954,
          90.61633093525181,
          -3.579989010989011,
          -2.106096537250787,
          -9.585812053115424,
          6.6540621865596785,
          41.608763931104356,
          13.22090284592738,
          23.67829457364341,
          9.278107606679034,
          -27.49986952469711,
          -14.962871198568875,
          41.69033365109629,
          36.301016652059594,
          2.763425692695214
         ]
        },
        {
         "line": {
          "color": "blue",
          "dash": "dot"
         },
         "mode": "markers+lines",
         "name": "Validation Actual",
         "type": "scatter",
         "x": [
          24
         ],
         "y": [
          44.48983552631579
         ]
        },
        {
         "line": {
          "color": "red",
          "dash": "dash"
         },
         "mode": "markers+lines",
         "name": "Validation Forecast (SARIMAX)",
         "type": "scatter",
         "x": [
          24
         ],
         "y": [
          -6.348054697368967
         ]
        }
       ],
       "layout": {
        "height": 500,
        "template": {
         "data": {
          "bar": [
           {
            "error_x": {
             "color": "#2a3f5f"
            },
            "error_y": {
             "color": "#2a3f5f"
            },
            "marker": {
             "line": {
              "color": "#E5ECF6",
              "width": 0.5
             },
             "pattern": {
              "fillmode": "overlay",
              "size": 10,
              "solidity": 0.2
             }
            },
            "type": "bar"
           }
          ],
          "barpolar": [
           {
            "marker": {
             "line": {
              "color": "#E5ECF6",
              "width": 0.5
             },
             "pattern": {
              "fillmode": "overlay",
              "size": 10,
              "solidity": 0.2
             }
            },
            "type": "barpolar"
           }
          ],
          "carpet": [
           {
            "aaxis": {
             "endlinecolor": "#2a3f5f",
             "gridcolor": "white",
             "linecolor": "white",
             "minorgridcolor": "white",
             "startlinecolor": "#2a3f5f"
            },
            "baxis": {
             "endlinecolor": "#2a3f5f",
             "gridcolor": "white",
             "linecolor": "white",
             "minorgridcolor": "white",
             "startlinecolor": "#2a3f5f"
            },
            "type": "carpet"
           }
          ],
          "choropleth": [
           {
            "colorbar": {
             "outlinewidth": 0,
             "ticks": ""
            },
            "type": "choropleth"
           }
          ],
          "contour": [
           {
            "colorbar": {
             "outlinewidth": 0,
             "ticks": ""
            },
            "colorscale": [
             [
              0,
              "#0d0887"
             ],
             [
              0.1111111111111111,
              "#46039f"
             ],
             [
              0.2222222222222222,
              "#7201a8"
             ],
             [
              0.3333333333333333,
              "#9c179e"
             ],
             [
              0.4444444444444444,
              "#bd3786"
             ],
             [
              0.5555555555555556,
              "#d8576b"
             ],
             [
              0.6666666666666666,
              "#ed7953"
             ],
             [
              0.7777777777777778,
              "#fb9f3a"
             ],
             [
              0.8888888888888888,
              "#fdca26"
             ],
             [
              1,
              "#f0f921"
             ]
            ],
            "type": "contour"
           }
          ],
          "contourcarpet": [
           {
            "colorbar": {
             "outlinewidth": 0,
             "ticks": ""
            },
            "type": "contourcarpet"
           }
          ],
          "heatmap": [
           {
            "colorbar": {
             "outlinewidth": 0,
             "ticks": ""
            },
            "colorscale": [
             [
              0,
              "#0d0887"
             ],
             [
              0.1111111111111111,
              "#46039f"
             ],
             [
              0.2222222222222222,
              "#7201a8"
             ],
             [
              0.3333333333333333,
              "#9c179e"
             ],
             [
              0.4444444444444444,
              "#bd3786"
             ],
             [
              0.5555555555555556,
              "#d8576b"
             ],
             [
              0.6666666666666666,
              "#ed7953"
             ],
             [
              0.7777777777777778,
              "#fb9f3a"
             ],
             [
              0.8888888888888888,
              "#fdca26"
             ],
             [
              1,
              "#f0f921"
             ]
            ],
            "type": "heatmap"
           }
          ],
          "heatmapgl": [
           {
            "colorbar": {
             "outlinewidth": 0,
             "ticks": ""
            },
            "colorscale": [
             [
              0,
              "#0d0887"
             ],
             [
              0.1111111111111111,
              "#46039f"
             ],
             [
              0.2222222222222222,
              "#7201a8"
             ],
             [
              0.3333333333333333,
              "#9c179e"
             ],
             [
              0.4444444444444444,
              "#bd3786"
             ],
             [
              0.5555555555555556,
              "#d8576b"
             ],
             [
              0.6666666666666666,
              "#ed7953"
             ],
             [
              0.7777777777777778,
              "#fb9f3a"
             ],
             [
              0.8888888888888888,
              "#fdca26"
             ],
             [
              1,
              "#f0f921"
             ]
            ],
            "type": "heatmapgl"
           }
          ],
          "histogram": [
           {
            "marker": {
             "pattern": {
              "fillmode": "overlay",
              "size": 10,
              "solidity": 0.2
             }
            },
            "type": "histogram"
           }
          ],
          "histogram2d": [
           {
            "colorbar": {
             "outlinewidth": 0,
             "ticks": ""
            },
            "colorscale": [
             [
              0,
              "#0d0887"
             ],
             [
              0.1111111111111111,
              "#46039f"
             ],
             [
              0.2222222222222222,
              "#7201a8"
             ],
             [
              0.3333333333333333,
              "#9c179e"
             ],
             [
              0.4444444444444444,
              "#bd3786"
             ],
             [
              0.5555555555555556,
              "#d8576b"
             ],
             [
              0.6666666666666666,
              "#ed7953"
             ],
             [
              0.7777777777777778,
              "#fb9f3a"
             ],
             [
              0.8888888888888888,
              "#fdca26"
             ],
             [
              1,
              "#f0f921"
             ]
            ],
            "type": "histogram2d"
           }
          ],
          "histogram2dcontour": [
           {
            "colorbar": {
             "outlinewidth": 0,
             "ticks": ""
            },
            "colorscale": [
             [
              0,
              "#0d0887"
             ],
             [
              0.1111111111111111,
              "#46039f"
             ],
             [
              0.2222222222222222,
              "#7201a8"
             ],
             [
              0.3333333333333333,
              "#9c179e"
             ],
             [
              0.4444444444444444,
              "#bd3786"
             ],
             [
              0.5555555555555556,
              "#d8576b"
             ],
             [
              0.6666666666666666,
              "#ed7953"
             ],
             [
              0.7777777777777778,
              "#fb9f3a"
             ],
             [
              0.8888888888888888,
              "#fdca26"
             ],
             [
              1,
              "#f0f921"
             ]
            ],
            "type": "histogram2dcontour"
           }
          ],
          "mesh3d": [
           {
            "colorbar": {
             "outlinewidth": 0,
             "ticks": ""
            },
            "type": "mesh3d"
           }
          ],
          "parcoords": [
           {
            "line": {
             "colorbar": {
              "outlinewidth": 0,
              "ticks": ""
             }
            },
            "type": "parcoords"
           }
          ],
          "pie": [
           {
            "automargin": true,
            "type": "pie"
           }
          ],
          "scatter": [
           {
            "fillpattern": {
             "fillmode": "overlay",
             "size": 10,
             "solidity": 0.2
            },
            "type": "scatter"
           }
          ],
          "scatter3d": [
           {
            "line": {
             "colorbar": {
              "outlinewidth": 0,
              "ticks": ""
             }
            },
            "marker": {
             "colorbar": {
              "outlinewidth": 0,
              "ticks": ""
             }
            },
            "type": "scatter3d"
           }
          ],
          "scattercarpet": [
           {
            "marker": {
             "colorbar": {
              "outlinewidth": 0,
              "ticks": ""
             }
            },
            "type": "scattercarpet"
           }
          ],
          "scattergeo": [
           {
            "marker": {
             "colorbar": {
              "outlinewidth": 0,
              "ticks": ""
             }
            },
            "type": "scattergeo"
           }
          ],
          "scattergl": [
           {
            "marker": {
             "colorbar": {
              "outlinewidth": 0,
              "ticks": ""
             }
            },
            "type": "scattergl"
           }
          ],
          "scattermapbox": [
           {
            "marker": {
             "colorbar": {
              "outlinewidth": 0,
              "ticks": ""
             }
            },
            "type": "scattermapbox"
           }
          ],
          "scatterpolar": [
           {
            "marker": {
             "colorbar": {
              "outlinewidth": 0,
              "ticks": ""
             }
            },
            "type": "scatterpolar"
           }
          ],
          "scatterpolargl": [
           {
            "marker": {
             "colorbar": {
              "outlinewidth": 0,
              "ticks": ""
             }
            },
            "type": "scatterpolargl"
           }
          ],
          "scatterternary": [
           {
            "marker": {
             "colorbar": {
              "outlinewidth": 0,
              "ticks": ""
             }
            },
            "type": "scatterternary"
           }
          ],
          "surface": [
           {
            "colorbar": {
             "outlinewidth": 0,
             "ticks": ""
            },
            "colorscale": [
             [
              0,
              "#0d0887"
             ],
             [
              0.1111111111111111,
              "#46039f"
             ],
             [
              0.2222222222222222,
              "#7201a8"
             ],
             [
              0.3333333333333333,
              "#9c179e"
             ],
             [
              0.4444444444444444,
              "#bd3786"
             ],
             [
              0.5555555555555556,
              "#d8576b"
             ],
             [
              0.6666666666666666,
              "#ed7953"
             ],
             [
              0.7777777777777778,
              "#fb9f3a"
             ],
             [
              0.8888888888888888,
              "#fdca26"
             ],
             [
              1,
              "#f0f921"
             ]
            ],
            "type": "surface"
           }
          ],
          "table": [
           {
            "cells": {
             "fill": {
              "color": "#EBF0F8"
             },
             "line": {
              "color": "white"
             }
            },
            "header": {
             "fill": {
              "color": "#C8D4E3"
             },
             "line": {
              "color": "white"
             }
            },
            "type": "table"
           }
          ]
         },
         "layout": {
          "annotationdefaults": {
           "arrowcolor": "#2a3f5f",
           "arrowhead": 0,
           "arrowwidth": 1
          },
          "autotypenumbers": "strict",
          "coloraxis": {
           "colorbar": {
            "outlinewidth": 0,
            "ticks": ""
           }
          },
          "colorscale": {
           "diverging": [
            [
             0,
             "#8e0152"
            ],
            [
             0.1,
             "#c51b7d"
            ],
            [
             0.2,
             "#de77ae"
            ],
            [
             0.3,
             "#f1b6da"
            ],
            [
             0.4,
             "#fde0ef"
            ],
            [
             0.5,
             "#f7f7f7"
            ],
            [
             0.6,
             "#e6f5d0"
            ],
            [
             0.7,
             "#b8e186"
            ],
            [
             0.8,
             "#7fbc41"
            ],
            [
             0.9,
             "#4d9221"
            ],
            [
             1,
             "#276419"
            ]
           ],
           "sequential": [
            [
             0,
             "#0d0887"
            ],
            [
             0.1111111111111111,
             "#46039f"
            ],
            [
             0.2222222222222222,
             "#7201a8"
            ],
            [
             0.3333333333333333,
             "#9c179e"
            ],
            [
             0.4444444444444444,
             "#bd3786"
            ],
            [
             0.5555555555555556,
             "#d8576b"
            ],
            [
             0.6666666666666666,
             "#ed7953"
            ],
            [
             0.7777777777777778,
             "#fb9f3a"
            ],
            [
             0.8888888888888888,
             "#fdca26"
            ],
            [
             1,
             "#f0f921"
            ]
           ],
           "sequentialminus": [
            [
             0,
             "#0d0887"
            ],
            [
             0.1111111111111111,
             "#46039f"
            ],
            [
             0.2222222222222222,
             "#7201a8"
            ],
            [
             0.3333333333333333,
             "#9c179e"
            ],
            [
             0.4444444444444444,
             "#bd3786"
            ],
            [
             0.5555555555555556,
             "#d8576b"
            ],
            [
             0.6666666666666666,
             "#ed7953"
            ],
            [
             0.7777777777777778,
             "#fb9f3a"
            ],
            [
             0.8888888888888888,
             "#fdca26"
            ],
            [
             1,
             "#f0f921"
            ]
           ]
          },
          "colorway": [
           "#636efa",
           "#EF553B",
           "#00cc96",
           "#ab63fa",
           "#FFA15A",
           "#19d3f3",
           "#FF6692",
           "#B6E880",
           "#FF97FF",
           "#FECB52"
          ],
          "font": {
           "color": "#2a3f5f"
          },
          "geo": {
           "bgcolor": "white",
           "lakecolor": "white",
           "landcolor": "#E5ECF6",
           "showlakes": true,
           "showland": true,
           "subunitcolor": "white"
          },
          "hoverlabel": {
           "align": "left"
          },
          "hovermode": "closest",
          "mapbox": {
           "style": "light"
          },
          "paper_bgcolor": "white",
          "plot_bgcolor": "#E5ECF6",
          "polar": {
           "angularaxis": {
            "gridcolor": "white",
            "linecolor": "white",
            "ticks": ""
           },
           "bgcolor": "#E5ECF6",
           "radialaxis": {
            "gridcolor": "white",
            "linecolor": "white",
            "ticks": ""
           }
          },
          "scene": {
           "xaxis": {
            "backgroundcolor": "#E5ECF6",
            "gridcolor": "white",
            "gridwidth": 2,
            "linecolor": "white",
            "showbackground": true,
            "ticks": "",
            "zerolinecolor": "white"
           },
           "yaxis": {
            "backgroundcolor": "#E5ECF6",
            "gridcolor": "white",
            "gridwidth": 2,
            "linecolor": "white",
            "showbackground": true,
            "ticks": "",
            "zerolinecolor": "white"
           },
           "zaxis": {
            "backgroundcolor": "#E5ECF6",
            "gridcolor": "white",
            "gridwidth": 2,
            "linecolor": "white",
            "showbackground": true,
            "ticks": "",
            "zerolinecolor": "white"
           }
          },
          "shapedefaults": {
           "line": {
            "color": "#2a3f5f"
           }
          },
          "ternary": {
           "aaxis": {
            "gridcolor": "white",
            "linecolor": "white",
            "ticks": ""
           },
           "baxis": {
            "gridcolor": "white",
            "linecolor": "white",
            "ticks": ""
           },
           "bgcolor": "#E5ECF6",
           "caxis": {
            "gridcolor": "white",
            "linecolor": "white",
            "ticks": ""
           }
          },
          "title": {
           "x": 0.05
          },
          "xaxis": {
           "automargin": true,
           "gridcolor": "white",
           "linecolor": "white",
           "ticks": "",
           "title": {
            "standoff": 15
           },
           "zerolinecolor": "white",
           "zerolinewidth": 2
          },
          "yaxis": {
           "automargin": true,
           "gridcolor": "white",
           "linecolor": "white",
           "ticks": "",
           "title": {
            "standoff": 15
           },
           "zerolinecolor": "white",
           "zerolinewidth": 2
          }
         }
        },
        "title": {
         "text": "Pooled SARIMAX Forecast vs Actual"
        },
        "xaxis": {
         "title": {
          "text": "Time Index (Year Encoded)"
         }
        },
        "yaxis": {
         "title": {
          "text": "Target 1"
         }
        }
       }
      }
     },
     "metadata": {},
     "output_type": "display_data"
    }
   ],
   "source": [
    "df = df_sarimax.copy()\n",
    "df = df[['Year', ' Target 1 ', 'Company']].dropna()\n",
    "\n",
    "# Sort by time and optionally company\n",
    "df = df.sort_values(['Year', 'Company'])\n",
    "\n",
    "# Create a datetime index (or numeric index)\n",
    "df['time_index'] = pd.factorize(df['Year'])[0]\n",
    "\n",
    "# Group by year to get a pooled total/average (or you can keep full granularity)\n",
    "# Here we just use the average Target 1 per year across companies\n",
    "grouped_df = df.groupby('time_index').agg({' Target 1 ': 'mean'}).reset_index()\n",
    "\n",
    "# Split into train/val (hold out last year)\n",
    "train = grouped_df[grouped_df['time_index'] < grouped_df['time_index'].max()]\n",
    "val = grouped_df[grouped_df['time_index'] == grouped_df['time_index'].max()]\n",
    "\n",
    "# Define endog\n",
    "endog = train[' Target 1 '].values\n",
    "\n",
    "# --- 2. Fit SARIMAX ---\n",
    "model = SARIMAX(endog, order=(1, 1, 1), seasonal_order=(1, 1, 0, 4),\n",
    "                enforce_stationarity=False, enforce_invertibility=False)\n",
    "results = model.fit(disp=False)\n",
    "\n",
    "# --- 3. Predict for validation period ---\n",
    "forecast = results.predict(start=len(endog), end=len(endog))\n",
    "\n",
    "# --- 4. Evaluate ---\n",
    "actual = val[' Target 1 '].values\n",
    "rmse = np.sqrt(mean_squared_error(actual, forecast))\n",
    "print(f\"Validation RMSE: {rmse:.2f}\")\n",
    "\n",
    "# --- 5. Plot with Plotly ---\n",
    "fig = go.Figure()\n",
    "\n",
    "# Plot training actuals\n",
    "fig.add_trace(go.Scatter(\n",
    "    x=train['time_index'],\n",
    "    y=train[' Target 1 '],\n",
    "    mode='lines+markers',\n",
    "    name='Train Actual'\n",
    "))\n",
    "\n",
    "# Plot validation actuals\n",
    "fig.add_trace(go.Scatter(\n",
    "    x=val['time_index'],\n",
    "    y=actual,\n",
    "    mode='markers+lines',\n",
    "    name='Validation Actual',\n",
    "    line=dict(dash='dot', color='blue')\n",
    "))\n",
    "\n",
    "# Plot validation predictions\n",
    "fig.add_trace(go.Scatter(\n",
    "    x=val['time_index'],\n",
    "    y=forecast,\n",
    "    mode='markers+lines',\n",
    "    name='Validation Forecast (SARIMAX)',\n",
    "    line=dict(dash='dash', color='red')\n",
    "))\n",
    "\n",
    "fig.update_layout(\n",
    "    title=\"Pooled SARIMAX Forecast vs Actual\",\n",
    "    xaxis_title=\"Time Index (Year Encoded)\",\n",
    "    yaxis_title=\"Target 1\",\n",
    "    height=500\n",
    ")\n",
    "\n",
    "fig.show()\n",
    "    "
   ]
  },
  {
   "cell_type": "code",
   "execution_count": 35,
   "id": "a0304441",
   "metadata": {},
   "outputs": [],
   "source": [
    "from sklearn.metrics import mean_squared_error"
   ]
  },
  {
   "cell_type": "code",
   "execution_count": 36,
   "id": "dbba4bbb",
   "metadata": {},
   "outputs": [
    {
     "name": "stdout",
     "output_type": "stream",
     "text": [
      "Validation RMSE: 1505218.15\n"
     ]
    }
   ],
   "source": [
    "rmse = np.sqrt(mean_squared_error(val_df[' Target 1 '], val_df['SARIMAX_Val_Pred']))\n",
    "print(f\"Validation RMSE: {rmse:.2f}\")"
   ]
  },
  {
   "cell_type": "code",
   "execution_count": null,
   "id": "14e97dfc",
   "metadata": {},
   "outputs": [
    {
     "data": {
      "text/html": [
       "<div>\n",
       "<style scoped>\n",
       "    .dataframe tbody tr th:only-of-type {\n",
       "        vertical-align: middle;\n",
       "    }\n",
       "\n",
       "    .dataframe tbody tr th {\n",
       "        vertical-align: top;\n",
       "    }\n",
       "\n",
       "    .dataframe thead th {\n",
       "        text-align: right;\n",
       "    }\n",
       "</style>\n",
       "<table border=\"1\" class=\"dataframe\">\n",
       "  <thead>\n",
       "    <tr style=\"text-align: right;\">\n",
       "      <th></th>\n",
       "      <th>Company</th>\n",
       "      <th>Year</th>\n",
       "      <th>Target 1</th>\n",
       "      <th>SARIMAX_Val_Pred</th>\n",
       "    </tr>\n",
       "  </thead>\n",
       "  <tbody>\n",
       "    <tr>\n",
       "      <th>0</th>\n",
       "      <td>3M India</td>\n",
       "      <td>2019</td>\n",
       "      <td>4.91</td>\n",
       "      <td>72.131057</td>\n",
       "    </tr>\n",
       "    <tr>\n",
       "      <th>1</th>\n",
       "      <td>3M India</td>\n",
       "      <td>2020</td>\n",
       "      <td>-18.12</td>\n",
       "      <td>-15.281069</td>\n",
       "    </tr>\n",
       "    <tr>\n",
       "      <th>2</th>\n",
       "      <td>3M India</td>\n",
       "      <td>2021</td>\n",
       "      <td>-52.44</td>\n",
       "      <td>31.208096</td>\n",
       "    </tr>\n",
       "    <tr>\n",
       "      <th>3</th>\n",
       "      <td>3M India</td>\n",
       "      <td>2022</td>\n",
       "      <td>18.77</td>\n",
       "      <td>60.103117</td>\n",
       "    </tr>\n",
       "    <tr>\n",
       "      <th>4</th>\n",
       "      <td>3M India</td>\n",
       "      <td>2023</td>\n",
       "      <td>7.21</td>\n",
       "      <td>68.148893</td>\n",
       "    </tr>\n",
       "    <tr>\n",
       "      <th>5</th>\n",
       "      <td>3i Infotech</td>\n",
       "      <td>2019</td>\n",
       "      <td>-39.30</td>\n",
       "      <td>-65.873161</td>\n",
       "    </tr>\n",
       "    <tr>\n",
       "      <th>6</th>\n",
       "      <td>3i Infotech</td>\n",
       "      <td>2020</td>\n",
       "      <td>385.64</td>\n",
       "      <td>-19.087125</td>\n",
       "    </tr>\n",
       "    <tr>\n",
       "      <th>7</th>\n",
       "      <td>3i Infotech</td>\n",
       "      <td>2021</td>\n",
       "      <td>-45.77</td>\n",
       "      <td>15.826902</td>\n",
       "    </tr>\n",
       "    <tr>\n",
       "      <th>8</th>\n",
       "      <td>3i Infotech</td>\n",
       "      <td>2022</td>\n",
       "      <td>-44.60</td>\n",
       "      <td>-78.328532</td>\n",
       "    </tr>\n",
       "    <tr>\n",
       "      <th>9</th>\n",
       "      <td>63 Moons Tech.</td>\n",
       "      <td>2019</td>\n",
       "      <td>-15.74</td>\n",
       "      <td>46.951553</td>\n",
       "    </tr>\n",
       "    <tr>\n",
       "      <th>10</th>\n",
       "      <td>63 Moons Tech.</td>\n",
       "      <td>2020</td>\n",
       "      <td>-30.01</td>\n",
       "      <td>51.940348</td>\n",
       "    </tr>\n",
       "    <tr>\n",
       "      <th>11</th>\n",
       "      <td>63 Moons Tech.</td>\n",
       "      <td>2021</td>\n",
       "      <td>269.05</td>\n",
       "      <td>97.701976</td>\n",
       "    </tr>\n",
       "    <tr>\n",
       "      <th>12</th>\n",
       "      <td>63 Moons Tech.</td>\n",
       "      <td>2022</td>\n",
       "      <td>-32.99</td>\n",
       "      <td>136.347816</td>\n",
       "    </tr>\n",
       "    <tr>\n",
       "      <th>13</th>\n",
       "      <td>63 Moons Tech.</td>\n",
       "      <td>2023</td>\n",
       "      <td>89.70</td>\n",
       "      <td>199.662604</td>\n",
       "    </tr>\n",
       "    <tr>\n",
       "      <th>14</th>\n",
       "      <td>A B B</td>\n",
       "      <td>2019</td>\n",
       "      <td>22.72</td>\n",
       "      <td>-27.265143</td>\n",
       "    </tr>\n",
       "    <tr>\n",
       "      <th>15</th>\n",
       "      <td>A B B</td>\n",
       "      <td>2020</td>\n",
       "      <td>-83.59</td>\n",
       "      <td>-24.290551</td>\n",
       "    </tr>\n",
       "    <tr>\n",
       "      <th>16</th>\n",
       "      <td>A B B</td>\n",
       "      <td>2021</td>\n",
       "      <td>66.90</td>\n",
       "      <td>-16.691840</td>\n",
       "    </tr>\n",
       "    <tr>\n",
       "      <th>17</th>\n",
       "      <td>A B B</td>\n",
       "      <td>2022</td>\n",
       "      <td>21.82</td>\n",
       "      <td>3.299382</td>\n",
       "    </tr>\n",
       "    <tr>\n",
       "      <th>18</th>\n",
       "      <td>A B B</td>\n",
       "      <td>2023</td>\n",
       "      <td>45.58</td>\n",
       "      <td>-33.125146</td>\n",
       "    </tr>\n",
       "    <tr>\n",
       "      <th>19</th>\n",
       "      <td>A B Real Estate</td>\n",
       "      <td>2019</td>\n",
       "      <td>-41.96</td>\n",
       "      <td>17.462191</td>\n",
       "    </tr>\n",
       "    <tr>\n",
       "      <th>20</th>\n",
       "      <td>A B Real Estate</td>\n",
       "      <td>2020</td>\n",
       "      <td>-20.89</td>\n",
       "      <td>20.573896</td>\n",
       "    </tr>\n",
       "    <tr>\n",
       "      <th>21</th>\n",
       "      <td>A B Real Estate</td>\n",
       "      <td>2021</td>\n",
       "      <td>66.16</td>\n",
       "      <td>1.176525</td>\n",
       "    </tr>\n",
       "    <tr>\n",
       "      <th>22</th>\n",
       "      <td>A B Real Estate</td>\n",
       "      <td>2022</td>\n",
       "      <td>-23.94</td>\n",
       "      <td>10.270752</td>\n",
       "    </tr>\n",
       "    <tr>\n",
       "      <th>23</th>\n",
       "      <td>A B Real Estate</td>\n",
       "      <td>2023</td>\n",
       "      <td>128.86</td>\n",
       "      <td>6.484145</td>\n",
       "    </tr>\n",
       "    <tr>\n",
       "      <th>24</th>\n",
       "      <td>ABG Shipyard</td>\n",
       "      <td>2014</td>\n",
       "      <td>-32.65</td>\n",
       "      <td>-133.580000</td>\n",
       "    </tr>\n",
       "    <tr>\n",
       "      <th>25</th>\n",
       "      <td>ABG Shipyard</td>\n",
       "      <td>2015</td>\n",
       "      <td>-68.88</td>\n",
       "      <td>-153.690000</td>\n",
       "    </tr>\n",
       "    <tr>\n",
       "      <th>26</th>\n",
       "      <td>ACC</td>\n",
       "      <td>2019</td>\n",
       "      <td>22.32</td>\n",
       "      <td>4.906053</td>\n",
       "    </tr>\n",
       "    <tr>\n",
       "      <th>27</th>\n",
       "      <td>ACC</td>\n",
       "      <td>2020</td>\n",
       "      <td>-65.96</td>\n",
       "      <td>-9.825208</td>\n",
       "    </tr>\n",
       "    <tr>\n",
       "      <th>28</th>\n",
       "      <td>ACC</td>\n",
       "      <td>2021</td>\n",
       "      <td>19.54</td>\n",
       "      <td>-30.927603</td>\n",
       "    </tr>\n",
       "    <tr>\n",
       "      <th>29</th>\n",
       "      <td>ACC</td>\n",
       "      <td>2022</td>\n",
       "      <td>-23.07</td>\n",
       "      <td>-23.404069</td>\n",
       "    </tr>\n",
       "    <tr>\n",
       "      <th>30</th>\n",
       "      <td>ACC</td>\n",
       "      <td>2023</td>\n",
       "      <td>20.82</td>\n",
       "      <td>-6.706728</td>\n",
       "    </tr>\n",
       "    <tr>\n",
       "      <th>31</th>\n",
       "      <td>AGI Greenpac</td>\n",
       "      <td>2019</td>\n",
       "      <td>-58.00</td>\n",
       "      <td>-58.775308</td>\n",
       "    </tr>\n",
       "    <tr>\n",
       "      <th>32</th>\n",
       "      <td>AGI Greenpac</td>\n",
       "      <td>2020</td>\n",
       "      <td>172.44</td>\n",
       "      <td>-6.940263</td>\n",
       "    </tr>\n",
       "    <tr>\n",
       "      <th>33</th>\n",
       "      <td>AGI Greenpac</td>\n",
       "      <td>2021</td>\n",
       "      <td>75.56</td>\n",
       "      <td>-15.227083</td>\n",
       "    </tr>\n",
       "    <tr>\n",
       "      <th>34</th>\n",
       "      <td>AGI Greenpac</td>\n",
       "      <td>2022</td>\n",
       "      <td>11.02</td>\n",
       "      <td>-52.984055</td>\n",
       "    </tr>\n",
       "    <tr>\n",
       "      <th>35</th>\n",
       "      <td>AGI Greenpac</td>\n",
       "      <td>2023</td>\n",
       "      <td>95.66</td>\n",
       "      <td>-69.569409</td>\n",
       "    </tr>\n",
       "    <tr>\n",
       "      <th>36</th>\n",
       "      <td>AIA Engineering</td>\n",
       "      <td>2020</td>\n",
       "      <td>-29.81</td>\n",
       "      <td>32.692573</td>\n",
       "    </tr>\n",
       "    <tr>\n",
       "      <th>37</th>\n",
       "      <td>AIA Engineering</td>\n",
       "      <td>2021</td>\n",
       "      <td>-38.00</td>\n",
       "      <td>-35.473840</td>\n",
       "    </tr>\n",
       "    <tr>\n",
       "      <th>38</th>\n",
       "      <td>AIA Engineering</td>\n",
       "      <td>2022</td>\n",
       "      <td>80.08</td>\n",
       "      <td>-5.174473</td>\n",
       "    </tr>\n",
       "    <tr>\n",
       "      <th>39</th>\n",
       "      <td>AIA Engineering</td>\n",
       "      <td>2023</td>\n",
       "      <td>6.30</td>\n",
       "      <td>-10.979989</td>\n",
       "    </tr>\n",
       "    <tr>\n",
       "      <th>40</th>\n",
       "      <td>APL Apollo Tubes</td>\n",
       "      <td>2021</td>\n",
       "      <td>13.32</td>\n",
       "      <td>2269.051699</td>\n",
       "    </tr>\n",
       "    <tr>\n",
       "      <th>41</th>\n",
       "      <td>APL Apollo Tubes</td>\n",
       "      <td>2022</td>\n",
       "      <td>47.68</td>\n",
       "      <td>11611.729783</td>\n",
       "    </tr>\n",
       "    <tr>\n",
       "      <th>42</th>\n",
       "      <td>APL Apollo Tubes</td>\n",
       "      <td>2023</td>\n",
       "      <td>-4.32</td>\n",
       "      <td>59561.643044</td>\n",
       "    </tr>\n",
       "    <tr>\n",
       "      <th>43</th>\n",
       "      <td>AVT Natural Prod</td>\n",
       "      <td>2021</td>\n",
       "      <td>172.64</td>\n",
       "      <td>-24.907655</td>\n",
       "    </tr>\n",
       "    <tr>\n",
       "      <th>44</th>\n",
       "      <td>AVT Natural Prod</td>\n",
       "      <td>2022</td>\n",
       "      <td>-37.61</td>\n",
       "      <td>-48.593715</td>\n",
       "    </tr>\n",
       "    <tr>\n",
       "      <th>45</th>\n",
       "      <td>AVT Natural Prod</td>\n",
       "      <td>2023</td>\n",
       "      <td>-22.67</td>\n",
       "      <td>9.132642</td>\n",
       "    </tr>\n",
       "    <tr>\n",
       "      <th>46</th>\n",
       "      <td>Aarti Drugs</td>\n",
       "      <td>2020</td>\n",
       "      <td>371.48</td>\n",
       "      <td>-135.833106</td>\n",
       "    </tr>\n",
       "    <tr>\n",
       "      <th>47</th>\n",
       "      <td>Aarti Drugs</td>\n",
       "      <td>2021</td>\n",
       "      <td>-56.12</td>\n",
       "      <td>-2.981986</td>\n",
       "    </tr>\n",
       "    <tr>\n",
       "      <th>48</th>\n",
       "      <td>Aarti Drugs</td>\n",
       "      <td>2022</td>\n",
       "      <td>-19.50</td>\n",
       "      <td>253.447619</td>\n",
       "    </tr>\n",
       "    <tr>\n",
       "      <th>49</th>\n",
       "      <td>Aarti Drugs</td>\n",
       "      <td>2023</td>\n",
       "      <td>-1.10</td>\n",
       "      <td>-70.184593</td>\n",
       "    </tr>\n",
       "    <tr>\n",
       "      <th>50</th>\n",
       "      <td>Aarti Industries</td>\n",
       "      <td>2019</td>\n",
       "      <td>23.68</td>\n",
       "      <td>14.780059</td>\n",
       "    </tr>\n",
       "    <tr>\n",
       "      <th>51</th>\n",
       "      <td>Aarti Industries</td>\n",
       "      <td>2020</td>\n",
       "      <td>-5.18</td>\n",
       "      <td>13.879497</td>\n",
       "    </tr>\n",
       "    <tr>\n",
       "      <th>52</th>\n",
       "      <td>Aarti Industries</td>\n",
       "      <td>2021</td>\n",
       "      <td>33.65</td>\n",
       "      <td>35.658313</td>\n",
       "    </tr>\n",
       "    <tr>\n",
       "      <th>53</th>\n",
       "      <td>Aarti Industries</td>\n",
       "      <td>2022</td>\n",
       "      <td>-44.05</td>\n",
       "      <td>74.642930</td>\n",
       "    </tr>\n",
       "    <tr>\n",
       "      <th>54</th>\n",
       "      <td>Aarti Industries</td>\n",
       "      <td>2023</td>\n",
       "      <td>-0.02</td>\n",
       "      <td>23.563247</td>\n",
       "    </tr>\n",
       "    <tr>\n",
       "      <th>55</th>\n",
       "      <td>Aban Offshore</td>\n",
       "      <td>2016</td>\n",
       "      <td>8.42</td>\n",
       "      <td>-94.347148</td>\n",
       "    </tr>\n",
       "    <tr>\n",
       "      <th>56</th>\n",
       "      <td>Aban Offshore</td>\n",
       "      <td>2017</td>\n",
       "      <td>-39.48</td>\n",
       "      <td>62.807626</td>\n",
       "    </tr>\n",
       "    <tr>\n",
       "      <th>57</th>\n",
       "      <td>Aban Offshore</td>\n",
       "      <td>2018</td>\n",
       "      <td>-78.73</td>\n",
       "      <td>-80.848664</td>\n",
       "    </tr>\n",
       "    <tr>\n",
       "      <th>58</th>\n",
       "      <td>Aban Offshore</td>\n",
       "      <td>2019</td>\n",
       "      <td>-49.74</td>\n",
       "      <td>-87.678642</td>\n",
       "    </tr>\n",
       "    <tr>\n",
       "      <th>59</th>\n",
       "      <td>Abbott India</td>\n",
       "      <td>2019</td>\n",
       "      <td>138.13</td>\n",
       "      <td>-4.143021</td>\n",
       "    </tr>\n",
       "  </tbody>\n",
       "</table>\n",
       "</div>"
      ],
      "text/plain": [
       "             Company  Year   Target 1   SARIMAX_Val_Pred\n",
       "0           3M India  2019        4.91         72.131057\n",
       "1           3M India  2020      -18.12        -15.281069\n",
       "2           3M India  2021      -52.44         31.208096\n",
       "3           3M India  2022       18.77         60.103117\n",
       "4           3M India  2023        7.21         68.148893\n",
       "5        3i Infotech  2019      -39.30        -65.873161\n",
       "6        3i Infotech  2020      385.64        -19.087125\n",
       "7        3i Infotech  2021      -45.77         15.826902\n",
       "8        3i Infotech  2022      -44.60        -78.328532\n",
       "9     63 Moons Tech.  2019      -15.74         46.951553\n",
       "10    63 Moons Tech.  2020      -30.01         51.940348\n",
       "11    63 Moons Tech.  2021      269.05         97.701976\n",
       "12    63 Moons Tech.  2022      -32.99        136.347816\n",
       "13    63 Moons Tech.  2023       89.70        199.662604\n",
       "14             A B B  2019       22.72        -27.265143\n",
       "15             A B B  2020      -83.59        -24.290551\n",
       "16             A B B  2021       66.90        -16.691840\n",
       "17             A B B  2022       21.82          3.299382\n",
       "18             A B B  2023       45.58        -33.125146\n",
       "19   A B Real Estate  2019      -41.96         17.462191\n",
       "20   A B Real Estate  2020      -20.89         20.573896\n",
       "21   A B Real Estate  2021       66.16          1.176525\n",
       "22   A B Real Estate  2022      -23.94         10.270752\n",
       "23   A B Real Estate  2023      128.86          6.484145\n",
       "24      ABG Shipyard  2014      -32.65       -133.580000\n",
       "25      ABG Shipyard  2015      -68.88       -153.690000\n",
       "26               ACC  2019       22.32          4.906053\n",
       "27               ACC  2020      -65.96         -9.825208\n",
       "28               ACC  2021       19.54        -30.927603\n",
       "29               ACC  2022      -23.07        -23.404069\n",
       "30               ACC  2023       20.82         -6.706728\n",
       "31      AGI Greenpac  2019      -58.00        -58.775308\n",
       "32      AGI Greenpac  2020      172.44         -6.940263\n",
       "33      AGI Greenpac  2021       75.56        -15.227083\n",
       "34      AGI Greenpac  2022       11.02        -52.984055\n",
       "35      AGI Greenpac  2023       95.66        -69.569409\n",
       "36   AIA Engineering  2020      -29.81         32.692573\n",
       "37   AIA Engineering  2021      -38.00        -35.473840\n",
       "38   AIA Engineering  2022       80.08         -5.174473\n",
       "39   AIA Engineering  2023        6.30        -10.979989\n",
       "40  APL Apollo Tubes  2021       13.32       2269.051699\n",
       "41  APL Apollo Tubes  2022       47.68      11611.729783\n",
       "42  APL Apollo Tubes  2023       -4.32      59561.643044\n",
       "43  AVT Natural Prod  2021      172.64        -24.907655\n",
       "44  AVT Natural Prod  2022      -37.61        -48.593715\n",
       "45  AVT Natural Prod  2023      -22.67          9.132642\n",
       "46       Aarti Drugs  2020      371.48       -135.833106\n",
       "47       Aarti Drugs  2021      -56.12         -2.981986\n",
       "48       Aarti Drugs  2022      -19.50        253.447619\n",
       "49       Aarti Drugs  2023       -1.10        -70.184593\n",
       "50  Aarti Industries  2019       23.68         14.780059\n",
       "51  Aarti Industries  2020       -5.18         13.879497\n",
       "52  Aarti Industries  2021       33.65         35.658313\n",
       "53  Aarti Industries  2022      -44.05         74.642930\n",
       "54  Aarti Industries  2023       -0.02         23.563247\n",
       "55     Aban Offshore  2016        8.42        -94.347148\n",
       "56     Aban Offshore  2017      -39.48         62.807626\n",
       "57     Aban Offshore  2018      -78.73        -80.848664\n",
       "58     Aban Offshore  2019      -49.74        -87.678642\n",
       "59      Abbott India  2019      138.13         -4.143021"
      ]
     },
     "execution_count": 37,
     "metadata": {},
     "output_type": "execute_result"
    },
    {
     "ename": "",
     "evalue": "",
     "output_type": "error",
     "traceback": [
      "\u001b[1;31mThe Kernel crashed while executing code in the current cell or a previous cell. \n",
      "\u001b[1;31mPlease review the code in the cell(s) to identify a possible cause of the failure. \n",
      "\u001b[1;31mClick <a href='https://aka.ms/vscodeJupyterKernelCrash'>here</a> for more info. \n",
      "\u001b[1;31mView Jupyter <a href='command:jupyter.viewOutput'>log</a> for further details."
     ]
    }
   ],
   "source": [
    "val_df.head(60)"
   ]
  }
 ],
 "metadata": {
  "kernelspec": {
   "display_name": "Python 3",
   "language": "python",
   "name": "python3"
  },
  "language_info": {
   "codemirror_mode": {
    "name": "ipython",
    "version": 3
   },
   "file_extension": ".py",
   "mimetype": "text/x-python",
   "name": "python",
   "nbconvert_exporter": "python",
   "pygments_lexer": "ipython3",
   "version": "3.10.11"
  }
 },
 "nbformat": 4,
 "nbformat_minor": 5
}
